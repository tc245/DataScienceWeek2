{
 "cells": [
  {
   "cell_type": "markdown",
   "metadata": {},
   "source": [
    "# Part 2: Lists, functions and Loops\n",
    "\n",
    "We now know how to assign variables and difference betwene two key variables types; strings and numbers. Now it's on to the powerhouses of programming...the use of lists, functions and loops. "
   ]
  },
  {
   "cell_type": "markdown",
   "metadata": {},
   "source": [
    "## Contents\n",
    "\n",
    "- 1. List basics\n",
    "    - Naming and defining lists\n",
    "    - Accessing items in a list\n",
    "    - Slicing a List\n",
    "    - Strings as lists\n",
    "- 2. Doing more with lists\n",
    "    - Adding items to a list\n",
    "    - Inserting items into a list\n",
    "    - Creating an empty list\n",
    "    - Sorting a List\n",
    "    - Removing items by position\n",
    "    - Removing items by value\n",
    "    - Popping items from a list\n",
    "    - Numerical lists\n",
    "    - Tuples\n",
    "- 3. Functions\n",
    "    - Finding the length of a list or a string\n",
    "    - Finding out the type of an object or variable\n",
    "    - Difference between functions and methods\n",
    "- 4. The wonder of loops!\n",
    "    - Our first loop\n",
    "    - Doing more with each item\n",
    "    - Inside and outside the loop\n"
   ]
  },
  {
   "cell_type": "markdown",
   "metadata": {},
   "source": [
    "## 1. List basics "
   ]
  },
  {
   "cell_type": "markdown",
   "metadata": {},
   "source": [
    "In simple terms, a list is a collection of items, that is stored in a variable. The items should be related in some way, but there are no restrictions on what can be stored in a list. \n",
    "\n",
    "### Naming and defining lists\n",
    "In the next code cell, we create a list object containing the names of three students as an example. Since lists are collections of items, it is good practice to give them a plural name. If each item in your list is a car, call the list 'cars'. If each item is a dog, call your list 'dogs'. This gives you a straightforward way to refer to the entire list ('dogs'), and to a single item in the list ('dog').\n",
    "\n",
    "In Python, square brackets designate a list. To define a list, you give the name of the list, the equals sign, and the values you want to include in your list within square brackets and separated by a comma."
   ]
  },
  {
   "cell_type": "code",
   "execution_count": null,
   "metadata": {},
   "outputs": [],
   "source": [
    "students = ['bernice', 'aaron', 'cody']\n",
    "print(students)"
   ]
  },
  {
   "cell_type": "markdown",
   "metadata": {},
   "source": [
    "### Accessing items in a list\n",
    "\n",
    "Items in a list are identified by their position in the list, starting with zero. This will almost certainly trip you up at some point. Programmers even joke about how often we all make \"off-by-one\" errors, so don't feel bad when you make this kind of error.\n",
    "\n",
    "To access the first element in a list, you give the name of the list, followed by a zero in parentheses. Lets create a new list of dog breeds and then select the first item in this list."
   ]
  },
  {
   "cell_type": "code",
   "execution_count": null,
   "metadata": {},
   "outputs": [],
   "source": [
    "dogs = ['border collie', 'australian cattle dog', 'labrador retriever']\n",
    "print(dogs[0])"
   ]
  },
  {
   "cell_type": "markdown",
   "metadata": {},
   "source": [
    "The number in the square brackets is called the index of the list. Because lists start at zero, the index of an item is always one less than its position in the list. So to get the second item in the list, we need to use an index of 1.To get the third item in the list, we use an index of 2..."
   ]
  },
  {
   "cell_type": "code",
   "execution_count": null,
   "metadata": {},
   "outputs": [],
   "source": [
    "print(dogs[1])"
   ]
  },
  {
   "cell_type": "markdown",
   "metadata": {},
   "source": [
    "Because the items in the dogs and students list are strings, we can apply string methods to individual items..."
   ]
  },
  {
   "cell_type": "code",
   "execution_count": null,
   "metadata": {
    "scrolled": true
   },
   "outputs": [],
   "source": [
    "dog = dogs[0]\n",
    "print(dog.title())"
   ]
  },
  {
   "cell_type": "markdown",
   "metadata": {},
   "source": [
    "However, this wont work if the list is a list of numbers. It will throw us an error message..."
   ]
  },
  {
   "cell_type": "code",
   "execution_count": null,
   "metadata": {
    "scrolled": true
   },
   "outputs": [],
   "source": [
    "numbers = [1,2,3,4]\n",
    "number = numbers[1]\n",
    "print(number.title())"
   ]
  },
  {
   "cell_type": "markdown",
   "metadata": {},
   "source": [
    "The error message `AttributeError: 'int' object has no attribute 'title'` is telling that the object `number` doesnt have an attribute or method called `title` because it is a number and not a string. Attribute errors like this often mean that we have asked python to do something to an object of the wrong type (e.g. number and not a string in this case).\n",
    "\n",
    "Anyway, back to our list of dogs... You can probably see that to get the last item in our `dogs` list, we would use an index of 2. This works, but it would only work because our list has exactly three items. To get the last item in a list, no matter how long the list is, you can use an index of -1."
   ]
  },
  {
   "cell_type": "code",
   "execution_count": null,
   "metadata": {},
   "outputs": [],
   "source": [
    "print(dogs[-1])"
   ]
  },
  {
   "cell_type": "markdown",
   "metadata": {},
   "source": [
    "This syntax also works for the second to last item, the third to last, and so on."
   ]
  },
  {
   "cell_type": "code",
   "execution_count": null,
   "metadata": {},
   "outputs": [],
   "source": [
    "#print second to last item\n",
    "print(dogs[-2])\n",
    "#print third to last item\n",
    "print(dogs[-3])"
   ]
  },
  {
   "cell_type": "markdown",
   "metadata": {},
   "source": [
    "### Slicing a List\n",
    "\n",
    "Since a list is a collection of items, we should be able to get any subset of those items. For example, if we want to get just the first three items from the list, we should be able to do so easily. The same should be true for any three items in the middle of the list, or the last three items, or any x items from anywhere in the list. These subsets of a list are called *slices*.\n",
    "\n",
    "Using slicing can be a little confusing! But basically, to get a subset of a list, we give the index position of the first item we want, and the position of the first item we <bold>do *not* want</bold> to include in the subset. So the slice `list[0:3]` will return a list containing items 0, 1, and 2, but not item 3. \n",
    "\n",
    "Let's make a longer list to illustrate this..."
   ]
  },
  {
   "cell_type": "code",
   "execution_count": null,
   "metadata": {},
   "outputs": [],
   "source": [
    "vehicles = ['car', 'train', 'tram', 'bus', 'bike', 'scooter', 'boat', 'plane', 'magic carpet', 'rocket ship']"
   ]
  },
  {
   "cell_type": "markdown",
   "metadata": {},
   "source": [
    "And now lets pracrice grabbing subsets from this list starting with items 3,4 and 5 from the list."
   ]
  },
  {
   "cell_type": "code",
   "execution_count": null,
   "metadata": {},
   "outputs": [],
   "source": [
    "vehicles = ['car', 'train', 'tram', 'bus', 'bike', 'scooter', 'boat', 'plane', 'magic carpet', 'rocket ship']\n",
    "\n",
    "# grab 'bike', 'bus' and scooter from the list (items 2, 3, and 4) and put in a variable called public transport.\n",
    "public_transport = vehicles[2:5]\n",
    "\n",
    "#print this new variable\n",
    "print(public_transport)"
   ]
  },
  {
   "cell_type": "markdown",
   "metadata": {},
   "source": [
    "We can also grab everything up to a certain position in the list, you can also leave the first index blank i.e. `vehicles[:3]`"
   ]
  },
  {
   "cell_type": "code",
   "execution_count": null,
   "metadata": {},
   "outputs": [],
   "source": [
    "vehicles = ['car', 'train', 'tram', 'bus', 'bike', 'scooter', 'boat', 'plane', 'magic carpet', 'rocket ship']\n",
    "\n",
    "# Grab the first three items in the vehicles list.\n",
    "first_three_items = vehicles[:3]\n",
    "\n",
    "#print this new variable\n",
    "print(first_three_items)"
   ]
  },
  {
   "cell_type": "markdown",
   "metadata": {},
   "source": [
    "The same principal applies to get everything after a certain point. Yup, you guessed it, we just leave the second index after the `:` blank..."
   ]
  },
  {
   "cell_type": "code",
   "execution_count": null,
   "metadata": {},
   "outputs": [],
   "source": [
    "vehicles = ['car', 'train', 'tram', 'bus', 'bike', 'scooter', 'boat', 'plane', 'magic carpet', 'rocket ship']\n",
    "\n",
    "# Grab all users from the third to the end.\n",
    "all_items_after_third_item = vehicles[3:]\n",
    "\n",
    "#print this new variable\n",
    "print(all_items_after_third_item)"
   ]
  },
  {
   "cell_type": "markdown",
   "metadata": {},
   "source": [
    "When we grab a slice from a list, the original list is not affected, so if we print our original list it will still be the same:"
   ]
  },
  {
   "cell_type": "code",
   "execution_count": null,
   "metadata": {},
   "outputs": [],
   "source": [
    "print(vehicles)"
   ]
  },
  {
   "cell_type": "markdown",
   "metadata": {},
   "source": [
    "However we can also modify the items in a list as well if we wanted to if you know the position of that item."
   ]
  },
  {
   "cell_type": "code",
   "execution_count": null,
   "metadata": {},
   "outputs": [],
   "source": [
    "vehicles = ['car', 'train', 'tram', 'bus', 'bike', 'scooter', 'boat', 'plane', 'magic carpet', 'rocket ship']\n",
    "\n",
    "#replace car with skateboard in our list\n",
    "vehicles[0] = 'skateboard'\n",
    "print(vehicles)"
   ]
  },
  {
   "cell_type": "markdown",
   "metadata": {},
   "source": [
    "### A quick note on strings as lists\n",
    "\n",
    "While we are on the topic of lists it is important to point out that a string can also be thought of as a list of characters.\n",
    "\n",
    "This means that we can use slicing to access individual characters within the string. In other words, we can treat a single string as if it were a list, so that each character in the string is treated like an item in a list. \n",
    "\n",
    "This will be really useful to us when we are working with lots of text data (like archive materials!). The example below separates the first and second sentence in a string variable containing two sentences."
   ]
  },
  {
   "cell_type": "code",
   "execution_count": null,
   "metadata": {},
   "outputs": [],
   "source": [
    "message = \"This is the first sentence in my message. This is the second sentence in my message.\"\n",
    "# Print only the first sentence (i.e. characters 0 to 40)\n",
    "print(message[0:41])"
   ]
  },
  {
   "cell_type": "code",
   "execution_count": null,
   "metadata": {},
   "outputs": [],
   "source": [
    "message = \"This is the first sentence in my message. This is the second sentence in my message.\"\n",
    "# Print only the second sentence (i.e. characters 41 onwards)\n",
    "print(message[41:])"
   ]
  },
  {
   "cell_type": "markdown",
   "metadata": {},
   "source": [
    "## 2. Doing more with lists\n",
    "\n",
    "So far all we have done with lists is create them and then figured out how to access different parts of them. However, we can do much more thn that!\n",
    "\n",
    "Just like with strings, list variables and objects also have a set of methods associated with them which enable us to do lots of useful things with the information stored in a list.\n",
    "\n",
    "Just like wth strings, the code follows the same basic structure i.e.:\n",
    "\n",
    "`variable.action()`\n",
    "\n",
    "In this case `variable` needs to be a list variable and `action` needs to be a method associated with lists. There are lots of these list methods available and you can a complete list here: https://www.w3schools.com/python/python_ref_list.asp \n",
    "\n",
    "Let's look at a few of these now..."
   ]
  },
  {
   "cell_type": "markdown",
   "metadata": {},
   "source": [
    "### Adding items to a list\n",
    "Lets start with adding items to our dogs list using the `append()` method. This method adds the new item to the end of the list. \n",
    "\n",
    "<b>Important! These methods all change the original list!</b> You could create a new list first if you want to retain the original list."
   ]
  },
  {
   "cell_type": "code",
   "execution_count": null,
   "metadata": {},
   "outputs": [],
   "source": [
    "dogs = ['border collie', 'australian cattle dog', 'labrador retriever']\n",
    "dogs.append('poodle')\n",
    "\n",
    "print(dogs)"
   ]
  },
  {
   "cell_type": "markdown",
   "metadata": {},
   "source": [
    "### Inserting items into a list\n",
    "We can also insert items anywhere we want in a list, using the `insert()` method. We specify the position we want the item to have, and everything from that point on is shifted one position to the right. In other words, the index of every item after the new item is increased by one."
   ]
  },
  {
   "cell_type": "code",
   "execution_count": null,
   "metadata": {},
   "outputs": [],
   "source": [
    "dogs = ['border collie', 'australian cattle dog', 'labrador retriever']\n",
    "dogs.insert(1, 'poodle')\n",
    "\n",
    "print(dogs)"
   ]
  },
  {
   "cell_type": "markdown",
   "metadata": {},
   "source": [
    "Note that you have to give the position of the new item first in the brackets, and then the value of the new item. If you do it in the reverse order, you will get an error."
   ]
  },
  {
   "cell_type": "code",
   "execution_count": null,
   "metadata": {
    "scrolled": false
   },
   "outputs": [],
   "source": [
    "dogs = ['border collie', 'australian cattle dog', 'labrador retriever']\n",
    "dogs.insert('poodle')"
   ]
  },
  {
   "cell_type": "markdown",
   "metadata": {},
   "source": [
    "### Creating an empty list\n",
    "\n",
    "Now that we know how to add items to a list after it is created, we can use lists more dynamically. It means we are no longer stuck with just defining our entire list all at once.\n",
    "\n",
    "A common approach with lists is to define an **empty** list, and then let your program add items to the list as necessary. This approach works, for example, when starting to build a collection of certain types of words found in an archive collection (such as newspapers and so on). You will want to start with an empty list that grows as you find more words to add to it.\n",
    "\n",
    "Here is a brief example of how to start with an empty list and then start to fill it up with items. The only new thing here is the way we define an empty list, which is just an empty set of square brackets `[]`."
   ]
  },
  {
   "cell_type": "code",
   "execution_count": null,
   "metadata": {},
   "outputs": [],
   "source": [
    "words = []\n",
    "\n",
    "print(words)\n",
    "\n",
    "# Add some users.\n",
    "words.append('I')\n",
    "words.append('love')\n",
    "words.append('the')\n",
    "words.append('archive')\n",
    "\n",
    "print(words)"
   ]
  },
  {
   "cell_type": "markdown",
   "metadata": {},
   "source": [
    "Note the empty `[]` when we print the empty list before adding anything to it. "
   ]
  },
  {
   "cell_type": "markdown",
   "metadata": {},
   "source": [
    "### Sorting a List\n",
    "\n",
    "As well as adding and removing stuff from a list we can also sort a list alphabetically, in either order using the `sort()` methods. We can sort in alphabetical order..."
   ]
  },
  {
   "cell_type": "code",
   "execution_count": null,
   "metadata": {},
   "outputs": [],
   "source": [
    "dogs = ['border collie', 'australian cattle dog', 'labrador retriever']\n",
    "\n",
    "# Put dogss in alphabetical order.\n",
    "dogs.sort()\n",
    "\n",
    "print(dogs)"
   ]
  },
  {
   "cell_type": "markdown",
   "metadata": {},
   "source": [
    "And reverse alphabetical order by specifying `reverse=True` in the brackets after `sort`..."
   ]
  },
  {
   "cell_type": "code",
   "execution_count": null,
   "metadata": {},
   "outputs": [],
   "source": [
    "dogs = ['border collie', 'australian cattle dog', 'labrador retriever']\n",
    "\n",
    "# Put dogss in alphabetical order.\n",
    "dogs.sort(reverse=True)\n",
    "\n",
    "print(dogs)"
   ]
  },
  {
   "cell_type": "markdown",
   "metadata": {},
   "source": [
    "### Removing items by position\n",
    "\n",
    "If you know the position of an item in a list, you can remove that item using the `del` command. To use this approach, give the command `del` and the name of your list, with the index of the item you want to remove in square brackets:"
   ]
  },
  {
   "cell_type": "code",
   "execution_count": null,
   "metadata": {},
   "outputs": [],
   "source": [
    "dogs = ['border collie', 'australian cattle dog', 'labrador retriever']\n",
    "# Remove the first dog from the list.\n",
    "del dogs[0]\n",
    "\n",
    "print(dogs)"
   ]
  },
  {
   "cell_type": "markdown",
   "metadata": {},
   "source": [
    "### Removing items by value\n",
    "\n",
    "You can also remove an item from a list if you know its value. To do this, we use the `remove()` method. Give the name of the list, followed by the word remove with the value of the item you want to remove in parentheses. Python looks through your list, finds the first item with this value, and removes it."
   ]
  },
  {
   "cell_type": "code",
   "execution_count": null,
   "metadata": {},
   "outputs": [],
   "source": [
    "dogs = ['border collie', 'australian cattle dog', 'labrador retriever']\n",
    "# Remove australian cattle dog from the list.\n",
    "dogs.remove('australian cattle dog')\n",
    "\n",
    "print(dogs)"
   ]
  },
  {
   "cell_type": "markdown",
   "metadata": {},
   "source": [
    "Hopefully you can start to see the value of this method when working with long lists of text. It is **really** powerful as it allows us to remove certain words that might not be useful to us (like \"the\" for example) from the list.  "
   ]
  },
  {
   "cell_type": "markdown",
   "metadata": {},
   "source": [
    "### Popping items from a list\n",
    "\n",
    "The final method for pythons lists is related to a really cool concept in programming called \"popping\". Every programming language has some sort of data structure similar to Python's lists. All of these structures can be used as queues, and there are various ways of processing the items in a queue.\n",
    "\n",
    "Often when we are working with lists we want to work with items in the list sequentially and then discard it and move onto the next one. We will explore the idea of repeating and looping code a bit later on but one approach is to take the last item from the list, do something with it, and then remove that item fo mthe list. \n",
    "\n",
    "The `pop()` method makes this easy. It removes the last item from the list, and gives it to us so we can work with it. For example:"
   ]
  },
  {
   "cell_type": "code",
   "execution_count": null,
   "metadata": {},
   "outputs": [],
   "source": [
    "vehicles = ['car', 'train', 'tram', 'bus', 'bike', 'scooter', 'boat', 'plane', 'magic carpet', 'rocket ship']\n",
    "\n",
    "last_vehicle = vehicles.pop()\n",
    "\n",
    "print(last_vehicle)\n",
    "print(vehicles)"
   ]
  },
  {
   "cell_type": "markdown",
   "metadata": {},
   "source": [
    "As you can see `pop()` has <i>popped</i> the last item off the vehicles list, added it a new variable and then removed that item from the original vehicles list. We can keep doing this for all the items..."
   ]
  },
  {
   "cell_type": "code",
   "execution_count": null,
   "metadata": {},
   "outputs": [],
   "source": [
    "vehicles = ['car', 'train', 'tram', 'bus', 'bike', 'scooter', 'boat', 'plane', 'magic carpet', 'rocket ship']\n",
    "\n",
    "last_vehicle = vehicles.pop()\n",
    "\n",
    "print(last_vehicle)\n",
    "print(vehicles)\n",
    "\n",
    "last_vehicle = vehicles.pop()\n",
    "\n",
    "print(last_vehicle)\n",
    "print(vehicles)\n",
    "\n",
    "last_vehicle = vehicles.pop()\n",
    "\n",
    "print(last_vehicle)\n",
    "print(vehicles)\n",
    "\n",
    "last_vehicle = vehicles.pop()\n",
    "\n",
    "print(last_vehicle)\n",
    "print(vehicles)\n",
    "\n",
    "# Etc Etc!"
   ]
  },
  {
   "cell_type": "markdown",
   "metadata": {},
   "source": [
    "Some of you might be wondering \"this process seems very repetitive with lots of repeated code\" and you would be right! Later in this practical we will explore the concept of loops which will <b>dramatically</b> reduce the amounf of code we would need to achieve the same result. More on that later..."
   ]
  },
  {
   "cell_type": "markdown",
   "metadata": {},
   "source": [
    "#### Exercise\n",
    "---\n",
    "##### List methods\n",
    "- Make a list that includes four careers, such as 'programmer' and 'truck driver'.\n",
    "- Use the `list.index()` method to find the index of one career in your list.\n",
    "- Use the `append()` method to add a new career to your list.\n",
    "- Use the `insert()` method to add a new career at the beginning of the list.\n",
    "\n",
    "##### Starting with empty lists\n",
    "- Create the list you ended up with in the \"list methods\" exercise, but this time start your file with an empty list and fill it up using `append()` statements.\n",
    "\n",
    "##### Ordered Working List\n",
    "- Start with the list you created in \"list methods\".\n",
    "- You are going to print out the list in a number of different orders:\n",
    "    - Print the list in its original order.\n",
    "    - Print the list in alphabetical order.\n",
    "    - Print the list in reverse alphabetical order."
   ]
  },
  {
   "cell_type": "markdown",
   "metadata": {},
   "source": [
    "### Numerical lists\n",
    "All of the the list methods work for numerical lists as well..."
   ]
  },
  {
   "cell_type": "markdown",
   "metadata": {},
   "source": [
    "`Sort()` puts numbers in increasing order."
   ]
  },
  {
   "cell_type": "code",
   "execution_count": null,
   "metadata": {},
   "outputs": [],
   "source": [
    "numbers = [1, 3, 4, 2]\n",
    "\n",
    "# sort() puts numbers in increasing order.\n",
    "numbers.sort()\n",
    "print(numbers)"
   ]
  },
  {
   "cell_type": "markdown",
   "metadata": {},
   "source": [
    "`sort(reverse=True)` puts numbers in decreasing order..."
   ]
  },
  {
   "cell_type": "code",
   "execution_count": null,
   "metadata": {},
   "outputs": [],
   "source": [
    "numbers = [1, 3, 4, 2]\n",
    "\n",
    "numbers.sort(reverse=True)\n",
    "print(numbers)\n"
   ]
  },
  {
   "cell_type": "markdown",
   "metadata": {},
   "source": [
    "`append(5)` adds the the number `5` to the end of a list..."
   ]
  },
  {
   "cell_type": "code",
   "execution_count": null,
   "metadata": {},
   "outputs": [],
   "source": [
    "numbers = [1, 2, 3, 4]\n",
    "\n",
    "numbers.append(5)\n",
    "print(numbers)"
   ]
  },
  {
   "cell_type": "markdown",
   "metadata": {},
   "source": [
    "`insert(1, 2)` adds the nmissing number 2 to the numbers list below..."
   ]
  },
  {
   "cell_type": "code",
   "execution_count": null,
   "metadata": {},
   "outputs": [],
   "source": [
    "numbers = [1, 3, 4]\n",
    "\n",
    "# Insert the nmissing number 2 to the list\n",
    "numbers.insert(1, 2)\n",
    "print(numbers)"
   ]
  },
  {
   "cell_type": "markdown",
   "metadata": {},
   "source": [
    "Popping our numbers list..."
   ]
  },
  {
   "cell_type": "code",
   "execution_count": null,
   "metadata": {},
   "outputs": [],
   "source": [
    "numbers = [1, 2, 3, 4]\n",
    "\n",
    "number = numbers.pop()\n",
    "print(number)\n",
    "\n",
    "number = numbers.pop()\n",
    "print(number)\n",
    "\n",
    "number = numbers.pop()\n",
    "print(number)\n",
    "\n",
    "number = numbers.pop()\n",
    "print(number)"
   ]
  },
  {
   "cell_type": "markdown",
   "metadata": {},
   "source": [
    "#### Exercise\n",
    "---\n",
    "##### Ordered Numbers\n",
    "- Make a list of 5 numbers, in a random order.\n",
    "- You are going to print out the list in a number of different orders.\n",
    "    - Print the numbers in the original order.\n",
    "    - Print the numbers in increasing order.\n",
    "    - Print the numbers in decreasing order."
   ]
  },
  {
   "cell_type": "markdown",
   "metadata": {},
   "source": [
    "### One last thing on lists... Tuples!\n",
    "\n",
    "Lists are quite dynamic; they can grow as you append and insert items, and they can shrink as you remove items. You can modify any element you want to in a list. In other words they are what python programmers call `mutable` (think mutating!). Sometimes we like this behavior, but other times we may want to ensure that no user or no part of a program can change a list. In this case we need to use something called a `tuple`.\n",
    "\n",
    "Tuples are basically the same as lists except that they are `immutable` objects.In other words unlike mutable objects like lists tuples cannot change.\n",
    "\n",
    "You define a tuple just like you define a list, except you use parentheses `()` instead of square brackets. Once you have a tuple, you can access individual elements just like you can with a list..."
   ]
  },
  {
   "cell_type": "code",
   "execution_count": null,
   "metadata": {},
   "outputs": [],
   "source": [
    "colors = ('red', 'green', 'blue')\n",
    "\n",
    "print(colors[0])\n",
    "print(colors[1])\n",
    "print(colors[2])"
   ]
  },
  {
   "cell_type": "markdown",
   "metadata": {},
   "source": [
    "## 3. Functions (and how they are different to methods)"
   ]
  },
  {
   "cell_type": "markdown",
   "metadata": {},
   "source": [
    "The concept of functions is one that is very common across all programming languages (including in both Python and R). In the simplest terms, a function is something that takes an input does something to this input and then produces an output. `x+3` is a very simple example of a function; it takes `x` as an input adds `3` to it and then provides an output. So lets try this below: "
   ]
  },
  {
   "cell_type": "code",
   "execution_count": null,
   "metadata": {},
   "outputs": [],
   "source": [
    "x=2\n",
    "print(x+3)"
   ]
  },
  {
   "cell_type": "markdown",
   "metadata": {},
   "source": [
    "This is a very simple function, but in fact, almost all functions follow this same very simple structure. Almost all programming is basically all about defining and running functions. We have already made extensive use of one function in python, and that is the `print` function. We used it above in fact.  You may have noticed that every time we use print we include `()`. e.g. `print(x+3)`. The literal interpretation of this syntax is that print is the function and the brackets contain the inputs. In python, the technical term for the inputs is `arguments`. This basic syntax is the same for every function e.g. `function(arguments)`.  \n",
    "\n",
    "Python has number of built-in functions that we are extremely useful, print being one, but let's look at some more.  \n",
    "\n",
    "### Finding the length of a list or a string\n",
    "\n",
    "Very often, we want to find out how long a list is, particularly if we have a particularly long list of items that we pulled in from somewhere else or that we didnt create ourselves. You can find the length of a list or a string using the `len()` function:"
   ]
  },
  {
   "cell_type": "code",
   "execution_count": null,
   "metadata": {},
   "outputs": [],
   "source": [
    "vehicles = ['car', 'train', 'tram', 'bus', 'bike', 'scooter', 'boat', 'plane', 'magic carpet', 'rocket ship']\n",
    "\n",
    "len(vehicles)"
   ]
  },
  {
   "cell_type": "markdown",
   "metadata": {},
   "source": [
    "Here, `len()` is the function and `vehicles` is the argument (or input).\n",
    "\n",
    "We can also assign the output from a function to another variable."
   ]
  },
  {
   "cell_type": "code",
   "execution_count": null,
   "metadata": {},
   "outputs": [],
   "source": [
    "vehicles = ['car', 'train', 'tram', 'bus', 'bike', 'scooter', 'boat', 'plane', 'magic carpet', 'rocket ship']\n",
    "\n",
    "length = len(vehicles)\n",
    "\n",
    "print(length)"
   ]
  },
  {
   "cell_type": "markdown",
   "metadata": {},
   "source": [
    "It works for strings as well."
   ]
  },
  {
   "cell_type": "code",
   "execution_count": null,
   "metadata": {},
   "outputs": [],
   "source": [
    "message = \"How many characters in my message?\"\n",
    "\n",
    "length = len(message)\n",
    "\n",
    "print(length)"
   ]
  },
  {
   "cell_type": "markdown",
   "metadata": {},
   "source": [
    "### Finding out the type of an object or variable\n",
    "\n",
    "Another function that is very useful is the `type()` function. To demonstrate why this function is, lets recall that certain methods or functions only work with certain types of objects or variables. For example, the `.pop()` method only works for lists and not strings. The example below illustrates this..."
   ]
  },
  {
   "cell_type": "code",
   "execution_count": null,
   "metadata": {
    "scrolled": true
   },
   "outputs": [],
   "source": [
    "message = \"This isnt going to work...\"\n",
    "message.pop()"
   ]
  },
  {
   "cell_type": "markdown",
   "metadata": {},
   "source": [
    "Errors like this one, `AttributeError`, are very common and quite annoying because often when we write programs we forget what `types` different objects are. The `type` function tells us..."
   ]
  },
  {
   "cell_type": "code",
   "execution_count": null,
   "metadata": {},
   "outputs": [],
   "source": [
    "message = \"This is going to tell me what type I am\"\n",
    "\n",
    "type(message)"
   ]
  },
  {
   "cell_type": "markdown",
   "metadata": {},
   "source": [
    "Here, python is telling us that the variable `message` is of type `str` which is short for string.\n",
    "\n",
    "We can do the same with a list..."
   ]
  },
  {
   "cell_type": "code",
   "execution_count": null,
   "metadata": {},
   "outputs": [],
   "source": [
    "vehicles = ['car', 'train', 'tram', 'bus', 'bike', 'scooter', 'boat', 'plane', 'magic carpet', 'rocket ship']\n",
    "\n",
    "type(vehicles)"
   ]
  },
  {
   "cell_type": "markdown",
   "metadata": {},
   "source": [
    "In python everything has a type, even built in functions like `print()`..."
   ]
  },
  {
   "cell_type": "code",
   "execution_count": null,
   "metadata": {},
   "outputs": [],
   "source": [
    "type(print)"
   ]
  },
  {
   "cell_type": "markdown",
   "metadata": {},
   "source": [
    "As with the various `.methods()` we highlighted earlier, python has a number of different built in functions which use the same basic syntax. YOu can see a list of them here: https://www.w3schools.com/python/python_ref_functions.asp\n",
    "\n",
    "### Difference between functions and methods\n",
    "\n",
    "To conclude the section on functions, I want to say a quick word on the distinction between a `function` and a `method`. In some sense the distinction goes beyond the scope of this practical but it may help understanding.\n",
    "\n",
    "In the simplest sense the difference is that `methods` are always called in relation to an object of some sort e.g. string.title() or list.pop() and different objects have different sets of methods that they can use. But functions are much more general, they can be used mostly everywhere e.g. `print(message)` or `type(vehicles)`. "
   ]
  },
  {
   "cell_type": "markdown",
   "metadata": {},
   "source": [
    "#### Exercise\n",
    "---\n",
    "##### List Lengths\n",
    "- Copy two or three of the lists you made from the previous exercises, or make up two or three new lists.\n",
    "- Print out a series of statements that tell us how long each list is."
   ]
  },
  {
   "cell_type": "markdown",
   "metadata": {},
   "source": [
    "## 4. The wonder of loops!\n",
    "\n",
    "Now on to one of the most exciting and powerful concepts in programing; using loops! \n",
    "\n",
    "### Our first loop\n",
    "\n",
    "Remember earlier when we were using `list.pop()` to print a list item and then remove it from the list? Remember how we had a massive long chunk of repeated code? Well imagine if we had a list with a million items in it! This is where looping comes in. With looping we can write three lines of code which will enable us to can write a sentence for each of those million items! \n",
    "\n",
    "The basic idea of a loop is to sequentially access and do something with each item in a list. A loop is a block of code that repeats itself until it runs out of items to work with, or until a certain condition is met. In this case, our loop will run once for every item in our list. With a list that is three items long, our loop will run three times. For a list of a million items, our loop will run 1 million times.\n",
    "\n",
    "Let's take a look at how we access all the items in a list, and then try to understand how it works."
   ]
  },
  {
   "cell_type": "code",
   "execution_count": null,
   "metadata": {},
   "outputs": [],
   "source": [
    "dogs = ['border collie', 'australian cattle dog', 'labrador retriever']\n",
    "\n",
    "for dog in dogs:\n",
    "    print(dog)"
   ]
  },
  {
   "cell_type": "markdown",
   "metadata": {},
   "source": [
    "We have already seen how to create a list, so we are really just trying to understand how the last two lines work. These last two lines make up the loop. The second line is easy, we know what `print` is doing. But the first line `for dog in dogs:` is important and the language here can help us see what is happening:\n",
    "\n",
    "- The keyword \"for\" tells Python to get ready to use a loop.\n",
    "- The variable \"dog\", with no \"s\" on it, is a temporary placeholder variable. This is the variable that Python will place each item in the list into, one at a time. In other words for each loop, the variable `dog` will have something different assigned to it.\n",
    "- Notice the `:` symbol at the end of the first line. The first line of a loop must always have a `:`.\n",
    "- The first time through the loop, the value of `dog` will be `border collie`.\n",
    "- The second time through the loop, the value of `dog` will be `australian cattle dog`.\n",
    "- The third time through, `dog` will be `labrador retriever`.\n",
    "- After this, there are no more items in the list, and the loop will end.\n",
    "\n",
    "The site <a href=\"http://pythontutor.com/visualize.html#code=dogs+%3D+%5B'border+collie',+'australian+cattle+dog',+'labrador+retriever'%5D%0A%0Afor+dog+in+dogs%3A%0A++++print(dog)&mode=display&cumulative=false&heapPrimitives=false&drawParentPointers=false&textReferences=false&showOnlyOutputs=false&py=3&curInstr=0\">pythontutor.com</a> allows you to run Python code one line at a time. As you run the code, there is also a visualization on the screen that shows you how the variable \"dog\" holds different values as the loop progresses. There is also an arrow that moves around your code, showing you how some lines are run just once, while other lines are run multiple tiimes. If you would like to see this in action, click the Forward button and watch the visualization, and the output as it is printed to the screen. Tools like this are incredibly valuable for seeing what Python is doing with your code."
   ]
  },
  {
   "cell_type": "markdown",
   "metadata": {},
   "source": [
    "### Doing more with each item\n",
    "\n",
    "We can do whatever we want with the value of \"dog\" inside the loop. In this case, we just print the name of the dog.\n",
    "\n",
    "`print(dog)`\n",
    "\n",
    "We are not limited to just printing the word dog. We can do whatever we want with this value, and this action will be carried out for every item in the list. Let's say something about each dog in our list."
   ]
  },
  {
   "cell_type": "code",
   "execution_count": null,
   "metadata": {},
   "outputs": [],
   "source": [
    "dogs = ['border collie', 'australian cattle dog', 'labrador retriever']\n",
    "\n",
    "for dog in dogs:\n",
    "    print('I like ' + dog + 's.')"
   ]
  },
  {
   "cell_type": "markdown",
   "metadata": {},
   "source": [
    "Visualize this on <a href=\"http://pythontutor.com/visualize.html#code=dogs+%3D+%5B'border+collie',+'australian+cattle+dog',+'labrador+retriever'%5D%0A%0Afor+dog+in+dogs%3A%0A++++print('I+like+'+%2B+dog+%2B+'s.')&mode=display&cumulative=false&heapPrimitives=false&drawParentPointers=false&textReferences=false&showOnlyOutputs=false&py=3&curInstr=0\">pythontutor</a>.\n"
   ]
  },
  {
   "cell_type": "markdown",
   "metadata": {},
   "source": [
    "The list can be any length, and looping will work just the same. Below is a list of every letter in the alphabet. Notice how the because the list is so long I have broken it onto two lines. \n",
    "\n",
    "Just like as before, we can print the items one by one..."
   ]
  },
  {
   "cell_type": "code",
   "execution_count": null,
   "metadata": {},
   "outputs": [],
   "source": [
    "alphabet = ['a', 'b', 'c', 'd', 'e', 'f', 'g', 'h', 'i', 'j', 'k', 'l', 'm', \n",
    "            'n', 'o', 'p', 'q', 'r', 's', 't', 'u', 'v', 'w', 'x', 'y', 'z']\n",
    "\n",
    "for letter in alphabet:\n",
    "    print(letter)"
   ]
  },
  {
   "cell_type": "markdown",
   "metadata": {},
   "source": [
    "### Inside and outside the loop\n",
    "\n",
    "There is one feature of the looping code that you may have noticed that we havent discussed yet. Something which looks different to previous code we have written...Can you think what it is by looking at the code more closely?\n",
    "\n",
    "<code>for letter in alphabet:\n",
    "    print(letter)      </code>\n",
    "\n",
    "The answer is indentation! \n",
    "\n",
    "Python uses indentation to decide what is inside the loop and what is outside the loop. Code that is inside the loop will be run for every item in the list. Code that is not indented, which comes after the loop, will be run once just like regular code.\n",
    "\n",
    "The standard level of indentation is 4 normal spacebar spaces. Helpfully, when you write a line ending in a `:`, the notebook automatically figures out you are starting a loop and the next line will start 4 spaces automatically."
   ]
  },
  {
   "cell_type": "code",
   "execution_count": null,
   "metadata": {},
   "outputs": [],
   "source": [
    "vehicles = ['car', 'train', 'tram', 'bus', 'bike', 'scooter', 'boat', 'plane', 'magic carpet', 'rocket ship']\n",
    "\n",
    "for vehicle in vehicles:\n",
    "    print('I like ' + vehicle + 's.')\n",
    "    print('No, I really really like ' + vehicle +'s!\\n')\n",
    "    \n",
    "print(\"\\nThat's just how I feel about vehicles.\")"
   ]
  },
  {
   "cell_type": "markdown",
   "metadata": {},
   "source": [
    "To illustrate how powerful this is, let's look at a crazy example. \n",
    "\n",
    "The below code creates a list of 1,000,000 string numbers starting from 1 and stores it in the list `numbers`. We then verify that the list is indeed 1,000,000 items long using `len()`."
   ]
  },
  {
   "cell_type": "code",
   "execution_count": null,
   "metadata": {},
   "outputs": [],
   "source": [
    "numbers = [str(number) for number in range(1, 1000001)]\n",
    "\n",
    "print(len(numbers))"
   ]
  },
  {
   "cell_type": "markdown",
   "metadata": {},
   "source": [
    "We then loop through each number printing the loop number as we go and pausing briefly before each print (so we can see it printing. \n",
    "\n",
    "It will take a **looooooong** time to finish going through all 1,000,000 (close to 3 days!) So when you are bored of staring at the output you can click the <button class='btn btn-default btn-xs'><i class='icon-stop fa fa-stop'></i></button> button in the toolbar above! Otherwise it will just keep going...! \n",
    "\n",
    "Note: When you stop the code running you need to make sure you have the cell selected."
   ]
  },
  {
   "cell_type": "code",
   "execution_count": null,
   "metadata": {
    "scrolled": true
   },
   "outputs": [],
   "source": [
    "import time\n",
    "for number in million:\n",
    "    print(\"The loop number is \" + number)\n",
    "    time.sleep(0.25)"
   ]
  },
  {
   "cell_type": "markdown",
   "metadata": {},
   "source": [
    "Dont worry about the error message, that just appears because you told python to exit the current operation before it was finished!"
   ]
  },
  {
   "cell_type": "markdown",
   "metadata": {},
   "source": [
    "#### Exercise\n",
    "---\n",
    "- Store the values 'images', 'newspapers', and 'government records' in a list. Use a loop to print out each value in the list.\n",
    "- Repeat above but this time use a loop to print out a message with each item.\n",
    "    - This could be something like \"Archive material can include `item`\"\n",
    "- Repeat the above but with a different list of your choice!\n",
    "\n",
    "\n",
    "\n"
   ]
  }
 ],
 "metadata": {
  "kernelspec": {
   "display_name": "Python 3",
   "language": "python",
   "name": "python3"
  },
  "language_info": {
   "codemirror_mode": {
    "name": "ipython",
    "version": 3
   },
   "file_extension": ".py",
   "mimetype": "text/x-python",
   "name": "python",
   "nbconvert_exporter": "python",
   "pygments_lexer": "ipython3",
   "version": "3.7.6"
  }
 },
 "nbformat": 4,
 "nbformat_minor": 4
}
